{
 "cells": [
  {
   "cell_type": "markdown",
   "id": "08b4f855",
   "metadata": {},
   "source": [
    "SAI RAINA\n",
    "USC ID = 4650068238\n",
    "Github Username = saitiger"
   ]
  },
  {
   "cell_type": "code",
   "execution_count": 44,
   "id": "967ce43f",
   "metadata": {},
   "outputs": [],
   "source": [
    "import pandas as pd\n",
    "import numpy as np\n",
    "from sklearn.model_selection import train_test_split\n",
    "from sklearn import svm\n",
    "from sklearn.svm import LinearSVC\n",
    "from sklearn.model_selection import GridSearchCV\n",
    "from sklearn import preprocessing\n",
    "from sklearn.metrics import classification_report\n",
    "from sklearn.metrics import precision_score,accuracy_score,recall_score, f1_score ,auc,roc_curve,confusion_matrix \n",
    "import matplotlib.pyplot as plt\n",
    "from sklearn.cluster import KMeans\n",
    "from sklearn.model_selection import StratifiedKFold\n",
    "from sklearn.neighbors import NearestNeighbors\n",
    "import random\n",
    "import warnings\n",
    "warnings.filterwarnings(\"ignore\")\n",
    "%matplotlib inline"
   ]
  },
  {
   "cell_type": "code",
   "execution_count": 3,
   "id": "e2406786",
   "metadata": {},
   "outputs": [],
   "source": [
    "df = pd.read_csv(r'../Data/wdbc.csv')\n",
    "df = df.drop(['842302'],axis=1)\n",
    "y = df['M']\n",
    "x = df.iloc[:,1:]"
   ]
  },
  {
   "cell_type": "code",
   "execution_count": 4,
   "id": "5c49d082",
   "metadata": {},
   "outputs": [
    {
     "data": {
      "text/plain": [
       "B    357\n",
       "M    211\n",
       "Name: M, dtype: int64"
      ]
     },
     "execution_count": 4,
     "metadata": {},
     "output_type": "execute_result"
    }
   ],
   "source": [
    "y.value_counts()"
   ]
  },
  {
   "cell_type": "code",
   "execution_count": 5,
   "id": "660d8630",
   "metadata": {},
   "outputs": [],
   "source": [
    "minMaxScaler = preprocessing.MinMaxScaler()\n",
    "df_norm = minMaxScaler.fit_transform(x)\n",
    "df_norm = pd.DataFrame(df_norm)\n",
    "df_norm = pd.concat([df_norm, df['M']], axis=1)"
   ]
  },
  {
   "cell_type": "code",
   "execution_count": 6,
   "id": "5252c58f",
   "metadata": {},
   "outputs": [],
   "source": [
    "df_norm.rename(columns={'M':'Diagnosis'},inplace=True)"
   ]
  },
  {
   "cell_type": "code",
   "execution_count": 7,
   "id": "a65b15ce",
   "metadata": {},
   "outputs": [],
   "source": [
    "df_norm[\"Diagnosis\"] = df_norm[\"Diagnosis\"].map( {'M':0, 'B':1} )"
   ]
  },
  {
   "cell_type": "code",
   "execution_count": 8,
   "id": "51f6c084",
   "metadata": {},
   "outputs": [
    {
     "data": {
      "text/plain": [
       "1    357\n",
       "0    211\n",
       "Name: Diagnosis, dtype: int64"
      ]
     },
     "execution_count": 8,
     "metadata": {},
     "output_type": "execute_result"
    }
   ],
   "source": [
    "df_norm['Diagnosis'].value_counts()"
   ]
  },
  {
   "cell_type": "code",
   "execution_count": 14,
   "id": "cd13e8c6",
   "metadata": {},
   "outputs": [
    {
     "name": "stdout",
     "output_type": "stream",
     "text": [
      "TEST\n",
      "Average Accuraccy Score : 0.9700945987183399\n",
      "Average Precision : 0.9676994495506345\n",
      "Average Recall : 0.9859154929577467\n",
      "Average F1 : 0.9765132912790028\n",
      "\n",
      "\n",
      "TRAIN\n",
      "Average Accuraccy Score : 0.9700945987183399\n",
      "Average Precision : 0.9829918626041677\n",
      "Average Recall : 0.9945743911261153\n",
      "Average F1 : 0.988740972800784\n"
     ]
    }
   ],
   "source": [
    "precision_test =[]\n",
    "recall_test = []\n",
    "f_test = []\n",
    "auc_test =[] \n",
    "acc_score_test = []\n",
    "\n",
    "\n",
    "precision_train = []\n",
    "recall_train = []\n",
    "f_train = []\n",
    "auc_train = [] \n",
    "acc_score_train = []\n",
    "\n",
    "for i in range(1,31):\n",
    "    df_mal = df_norm[df_norm['Diagnosis']==0]\n",
    "\n",
    "    df_mal_sample = df_mal.sample(frac=.20,random_state=random.randint(1,100))\n",
    "\n",
    "    df_ben = df_norm[df_norm['Diagnosis']==1]\n",
    "    df_ben_sample = df_ben.sample(frac=.20,random_state=random.randint(1,100))\n",
    "\n",
    "    df_test = pd.concat([df_ben_sample,df_mal_sample]) \n",
    "    index1 = df_test.index\n",
    "    df_train = df_norm.drop(index= index1)\n",
    "    x_test = df_test.drop(['Diagnosis'],axis=1)\n",
    "    y_test = df_test['Diagnosis']\n",
    "    x_train = df_train.drop(['Diagnosis'],axis=1)\n",
    "    y_train = df_train['Diagnosis']\n",
    "    \n",
    "    parameters = [{'C': [1, 10, 100,1000]}]   \n",
    "    clf1 = GridSearchCV(LinearSVC(penalty='l1',dual=False),parameters,cv = 5)\n",
    "    clf1.fit(x_train, y_train)\n",
    "    y_pred1 = clf1.predict(x_test)\n",
    "    \n",
    "    precision_test.append(precision_score(y_test, y_pred1))\n",
    "    recall_test.append(recall_score(y_test, y_pred1))\n",
    "    acc_score_test.append(accuracy_score(y_test, y_pred1)) \n",
    "    f_test.append(f1_score(y_test, y_pred1))\n",
    "    fpr_test, tpr_test, _ = roc_curve(y_test,y_pred1)\n",
    "    auc_test.append(auc(fpr_test, tpr_test))\n",
    "    \n",
    "    parameters = [{'C': [1, 10, 100,1000]}]   \n",
    "    clf2 = GridSearchCV(LinearSVC(penalty='l1',dual=False),parameters,cv = 5)\n",
    "    clf2.fit(x_train, y_train)\n",
    "    y_pred2 = clf2.predict(x_train)\n",
    "     \n",
    "    precision_train.append(precision_score(y_train, y_pred2))\n",
    "    recall_train.append(recall_score(y_train, y_pred2))\n",
    "    acc_score_train.append(accuracy_score(y_train, y_pred2)) \n",
    "    f_train.append(f1_score(y_train,y_pred2))\n",
    "    fpr_train, tpr_train, _ = roc_curve(y_train,y_pred2)\n",
    "    auc_train.append(auc(fpr_train, tpr_train))\n",
    "    \n",
    "print(\"TEST\")\n",
    "avg_precision_test = np.mean(precision_test)\n",
    "avg_f1_test = np.mean(f_test)\n",
    "avg_recall_test = np.mean(recall_test)\n",
    "avg_acc_score_test = np.mean(acc_score_test)\n",
    "print(f\"Average Accuraccy Score : {avg_acc_score_test}\\nAverage Precision : {avg_precision_test}\\nAverage Recall : {avg_recall_test}\\nAverage F1 : {avg_f1_test}\")\n",
    "\n",
    "print(\"\\n\")\n",
    "\n",
    "print(\"TRAIN\")\n",
    "avg_precision_train = np.mean(precision_train)\n",
    "avg_f1_train = np.mean(f_train)\n",
    "avg_recall_train = np.mean(recall_train)\n",
    "avg_acc_score_train= np.mean(acc_score_test)\n",
    "print(f\"Average Accuraccy Score : {avg_acc_score_train}\\nAverage Precision : {avg_precision_train}\\nAverage Recall : {avg_recall_train}\\nAverage F1 : {avg_f1_train}\")"
   ]
  },
  {
   "cell_type": "code",
   "execution_count": 15,
   "id": "b6fe1488",
   "metadata": {},
   "outputs": [
    {
     "name": "stdout",
     "output_type": "stream",
     "text": [
      "Confusion Matrix (TEST) :  [[40  2]\n",
      " [ 1 70]]\n",
      "Confusion Matrix (TRAIN) :  [[167   2]\n",
      " [  1 285]]\n"
     ]
    }
   ],
   "source": [
    "cm_test = confusion_matrix(y_test,y_pred1)\n",
    "print(\"Confusion Matrix (TEST) : \",cm_test)\n",
    "\n",
    "cm_train = confusion_matrix(y_train,y_pred2)\n",
    "print(\"Confusion Matrix (TRAIN) : \",cm_train)"
   ]
  },
  {
   "cell_type": "code",
   "execution_count": 16,
   "id": "d9513307",
   "metadata": {},
   "outputs": [
    {
     "data": {
      "text/plain": [
       "<matplotlib.legend.Legend at 0x22cd3cad4a8>"
      ]
     },
     "execution_count": 16,
     "metadata": {},
     "output_type": "execute_result"
    },
    {
     "data": {
      "image/png": "[encoded data removed]",
      "text/plain": [
       "<Figure size 432x288 with 1 Axes>"
      ]
     },
     "metadata": {
      "needs_background": "light"
     },
     "output_type": "display_data"
    }
   ],
   "source": [
    "plt.plot(fpr_test,tpr_test, linestyle='--', label='Test ROC (AUC = %0.3f)' % auc(fpr_test,tpr_test))\n",
    "plt.plot(fpr_train,tpr_train, linestyle='--', label='Train ROC (AUC = %0.3f)' % auc(fpr_train,tpr_train))\n",
    "plt.plot([0, 1], [0, 1], color=\"navy\", linestyle=\"--\")\n",
    "plt.title('ROC')\n",
    "plt.xlabel('False Positive Rate')\n",
    "plt.ylabel('True Positive Rate')\n",
    "plt.legend()"
   ]
  },
  {
   "cell_type": "code",
   "execution_count": null,
   "id": "e7589bbd",
   "metadata": {},
   "outputs": [],
   "source": [
    "precision_test =[]\n",
    "recall_test = []\n",
    "f_test = []\n",
    "auc_test =[] \n",
    "acc_score_test = []\n",
    "precision_train = []\n",
    "recall_train = []\n",
    "f_train = []\n",
    "auc_train = [] \n",
    "acc_score_train = []\n",
    "\n",
    "for i in range(1,31):\n",
    "    \n",
    "    df_mal = df_norm[df_norm['Diagnosis']==0]\n",
    "    df_ben = df_norm[df_norm['Diagnosis']==1]\n",
    "    df_mal_sample = df_mal.sample(frac=.50,random_state=random.randint(1,100))\n",
    "    df_ben_sample = df_ben.sample(frac=.50,random_state=random.randint(1,100))\n",
    "    df_test = pd.concat([df_ben_sample,df_mal_sample])\n",
    "\n",
    "    index1 = df_test.index\n",
    "    df_train = df_norm.drop(index= index1)\n",
    "    df_lbl = df_train\n",
    "    df_unlbl = df_test.drop('Diagnosis',axis=1)\n",
    "    y_unlbl = df_test['Diagnosis']\n",
    "    df_unlbl_final = df_unlbl.reset_index(drop=True)\n",
    "    df_unlbl = df_unlbl_final\n",
    "    x_lbl = df_train.drop(['Diagnosis'],axis=1)\n",
    "    x_lbl = x_lbl.reset_index(drop=True)\n",
    "    y_lbl = df_train['Diagnosis']\n",
    "    y_lbl = y_lbl.reset_index(drop=True)\n",
    "    \n",
    "    x_lbl_final = df_train.drop(['Diagnosis'],axis=1)\n",
    "    x_lbl_final = x_lbl_final.reset_index(drop=True)\n",
    "    y_lbl_final = df_train['Diagnosis']\n",
    "    y_lbl_final = y_lbl_final.reset_index(drop=True)\n",
    "    \n",
    "    for j in range(len(df_unlbl)):\n",
    "        parameters = [{'C': [0.1,0.001,1, 10, 100, 1000],'max_iter':[2000]}]\n",
    "        clf = GridSearchCV(LinearSVC(penalty='l1',dual=False),parameters,cv=5)\n",
    "        clf.fit(x_lbl,y_lbl)\n",
    "        l = int(np.argmax(clf.decision_function(df_unlbl)))\n",
    "        max_dist_val = pd.Series.to_frame(df_unlbl.iloc[l,:]).T\n",
    "        pred_app = pd.DataFrame(clf.predict(max_dist_val))\n",
    "        y_lbl = pd.concat([y_lbl,pred_app],axis=0)\n",
    "        x_lbl = x_lbl.append(max_dist_val)\n",
    "        df_unlbl = df_unlbl.drop(index=l,axis=0)\n",
    "        df_unlbl = df_unlbl.reset_index(drop=True)\n",
    "    \n",
    "    y_pred_test = clf.predict(df_unlbl_final)\n",
    "    precision_test.append(precision_score(y_unlbl, y_pred_test))\n",
    "    recall_test.append(recall_score(y_unlbl,y_pred_test))\n",
    "    acc_score_test.append(accuracy_score(y_unlbl, y_pred_test)) \n",
    "    f_test.append(f1_score(y_unlbl, y_pred_test))\n",
    "    fpr_test, tpr_test, _ = roc_curve(y_unlbl,y_pred_test)\n",
    "    auc_test.append(auc(fpr_test, tpr_test))\n",
    "    \n",
    "    y_pred_train=clf.predict(x_lbl_final) \n",
    "    precision_train.append(precision_score(y_lbl_final, y_pred_train))\n",
    "    recall_train.append(recall_score(y_lbl_final,y_pred_train))\n",
    "    acc_score_train.append(accuracy_score(y_lbl_final, y_pred_train)) \n",
    "    f_train.append(f1_score(y_lbl_final, y_pred_train))\n",
    "    fpr_train, tpr_train, _ = roc_curve(y_lbl_final,y_pred_train)\n",
    "    auc_train.append(auc(fpr_train, tpr_train))\n",
    "\n",
    "print(\"TRAIN\")\n",
    "print(\"Average Precision : \",np.mean(precision_train))\n",
    "print(\"Average F1 Score : \",np.mean(f_train))\n",
    "print(\"Average Recall : \",np.mean(recall_train))\n",
    "print(\"Average AUC : \",np.mean(auc_train))\n",
    "print(\"Average Accuraccy : \",np.mean(acc_score_train))\n",
    "print(\"TEST \")\n",
    "print(\"Average Precision : \",np.mean(precision_test))\n",
    "print(\"Average F1 Score : \",np.mean(f_test))\n",
    "print(\"Average Recall : \",np.mean(recall_test))\n",
    "print(\"Average AUC: \",np.mean(auc_test))\n",
    "print(\"Average Accuraccy : \",np.mean(acc_score_test))"
   ]
  },
  {
   "cell_type": "code",
   "execution_count": null,
   "id": "9b3902c1",
   "metadata": {},
   "outputs": [],
   "source": [
    "cm_test = confusion_matrix(y_test,y_pred_test)\n",
    "print(\"Confusion Matrix (TEST) : \",cm_test)\n",
    "\n",
    "cm_train = confusion_matrix(y_train,y_pred_train)\n",
    "print(\"Confusion Matrix (TRAIN) : \",cm_train)"
   ]
  },
  {
   "cell_type": "code",
   "execution_count": null,
   "id": "7a6dfa0e",
   "metadata": {},
   "outputs": [],
   "source": [
    "plt.plot(fpr_test,tpr_test, linestyle='--', label='Test ROC (AUC = %0.3f)' % auc(fpr_test,tpr_test))\n",
    "plt.plot(fpr_train,tpr_train, linestyle='--', label='Train ROC (AUC = %0.3f)' % auc(fpr_train,tpr_train))\n",
    "plt.plot([0, 1], [0, 1], color=\"navy\", linestyle=\"--\")\n",
    "plt.title('ROC')\n",
    "plt.xlabel('False Positive Rate')\n",
    "plt.ylabel('True Positive Rate')\n",
    "plt.legend()"
   ]
  },
  {
   "cell_type": "markdown",
   "id": "6c797120",
   "metadata": {},
   "source": [
    "To avoid local minima we run kmeans algorithm multiple times and report the instance where the wcss is minimum. By running \n",
    "kmeans repeatedly we are essentially relying on the fact that the initial random assignment of clusters in some cases will lead \n",
    "to a final kmeans model that is not stuck in local minima.\n"
   ]
  },
  {
   "cell_type": "code",
   "execution_count": null,
   "id": "b8963639",
   "metadata": {},
   "outputs": [],
   "source": [
    "precision_test =[]\n",
    "recall_test = []\n",
    "f_test = []\n",
    "auc_test =[] \n",
    "acc_score_test = []\n",
    "\n",
    "precision_train = []\n",
    "recall_train = []\n",
    "f_train = []\n",
    "auc_train = [] \n",
    "acc_score_train = []\n",
    "\n",
    "for i in range(1,31):\n",
    "    \n",
    "    df_mal = df_norm[df_norm['Diagnosis']==0]\n",
    "    df_ben = df_norm[df_norm['Diagnosis']==1]\n",
    "    df_mal_sample = df_mal.sample(frac=.20,random_state=random.randint(1,100))\n",
    "    df_ben_sample = df_ben.sample(frac=.20,random_state=random.randint(1,100))\n",
    "    \n",
    "    df_test = pd.concat([df_ben_sample,df_mal_sample]) \n",
    "    index1 = df_test.index\n",
    "    df_train = df_norm.drop(index= index1)\n",
    "    df_test.reset_index(drop=True,inplace=True)\n",
    "    x_test = df_test.drop(['Diagnosis'],axis=1)\n",
    "    y_test = df_test['Diagnosis']\n",
    "    x_train = df_train.drop(['Diagnosis'],axis=1)\n",
    "    y_train = df_train['Diagnosis']\n",
    "    x_train.reset_index(drop=True,inplace=True)\n",
    "    y_train.reset_index(drop=True,inplace=True)\n",
    "\n",
    "    kmeans = KMeans(n_clusters=2,init = 'random')\n",
    "    kmeans.fit(x_train)\n",
    "    nbrs = NearestNeighbors(n_neighbors=30).fit(x_train)\n",
    "\n",
    "    print(kmeans.cluster_centers_)\n",
    "    distances, indices = nbrs.kneighbors(kmeans.cluster_centers_)\n",
    "    cls1 = y_train.loc[indices[0]]\n",
    "    p1 = cls1.value_counts()\n",
    "    cls2 = y_train.loc[indices[1]]\n",
    "    p21 = cls2.value_counts()\n",
    "    \n",
    "    y_pred = kmeans.labels_\n",
    "    y_pred = pd.DataFrame(y_pred)\n",
    "    y_pred1 = y_pred[y_pred[0]==0]\n",
    "    y_pred2 = y_pred[y_pred[0]==1]\n",
    "\n",
    "    max_index_0 = np.argmax(p1)\n",
    "    max_index_1 = np.argmax(p2)\n",
    "\n",
    "    y_pred1['class'] = max_index_0\n",
    "    y_pred2['class'] = max_index_1\n",
    "    y_pred_train = pd.concat([y_pred1['class'],y_pred2['class']],axis=0)\n",
    "    y_pred_train = y_pred_train.sort_index()\n",
    "\n",
    "    precision_train.append(precision_score(y_train, y_pred_train))\n",
    "    recall_train.append(recall_score(y_train, y_pred_train))\n",
    "    acc_score_train.append(accuracy_score(y_train, y_pred_train)) \n",
    "    f_train.append(f1_score(y_train, y_pred_train))\n",
    "    fpr_train, tpr_train, _ = roc_curve(y_train,y_pred_train)\n",
    "    auc_train.append(auc(fpr_train, tpr_train))\n",
    "    \n",
    "    y_pred_test = kmeans.predict(x_test)\n",
    "    precision_test.append(precision_score(y_test, y_pred_test))\n",
    "    recall_test.append(recall_score(y_test, y_pred_test))\n",
    "    acc_score_test.append(accuracy_score(y_test, y_pred_test)) \n",
    "    f_test.append(f1_score(y_test, y_pred_test))\n",
    "    fpr_test, tpr_test, _ = roc_curve(y_test,y_pred_test)\n",
    "    auc_test.append(auc(fpr_test, tpr_test))"
   ]
  },
  {
   "cell_type": "code",
   "execution_count": null,
   "id": "1c4da194",
   "metadata": {},
   "outputs": [],
   "source": [
    "print(\"TRAIN\")\n",
    "print(\"Average Precision : \",np.mean(precision_train))\n",
    "print(\"Average F1 Score : \",np.mean(f_train))\n",
    "print(\"Average Recall : \",np.mean(recall_train))\n",
    "print(\"Average AUC : \",np.mean(auc_train))\n",
    "print(\"Average Accuraccy : \",np.mean(acc_score_train))\n",
    "print(\"TEST \")\n",
    "print(\"Average Precision : \",np.mean(precision_test))\n",
    "print(\"Average F1 Score : \",np.mean(f_test))\n",
    "print(\"Average Recall : \",np.mean(recall_test))\n",
    "print(\"Average AUC: \",np.mean(auc_test))\n",
    "print(\"Average Accuraccy : \",np.mean(acc_score_test))"
   ]
  },
  {
   "cell_type": "code",
   "execution_count": null,
   "id": "7d1114ac",
   "metadata": {},
   "outputs": [],
   "source": [
    "cm_test = confusion_matrix(y_test,y_pred_test)\n",
    "print(\"Confusion Matrix (TEST) : \",cm_test)\n",
    "\n",
    "cm_train = confusion_matrix(y_train,y_pred_train)\n",
    "print(\"Confusion Matrix (TRAIN) : \",cm_train)"
   ]
  },
  {
   "cell_type": "code",
   "execution_count": null,
   "id": "701251dd",
   "metadata": {},
   "outputs": [],
   "source": [
    "plt.plot(fpr_test,tpr_test, linestyle='--', label='Test ROC (AUC = %0.3f)' % auc(fpr_test,tpr_test))\n",
    "plt.plot(fpr_train,tpr_train, linestyle='--', label='Train ROC (AUC = %0.3f)' % auc(fpr_train,tpr_train))\n",
    "plt.plot([0, 1], [0, 1], color=\"navy\", linestyle=\"--\")\n",
    "plt.title('ROC')\n",
    "plt.xlabel('False Positive Rate')\n",
    "plt.ylabel('True Positive Rate')\n",
    "plt.legend()"
   ]
  },
  {
   "cell_type": "markdown",
   "id": "58c9bc35",
   "metadata": {},
   "source": [
    "Spectral clustering uses similarity of the data to perform dimensionality reduction before clustering in fewer dimensions. \n",
    "An advantage of spectral clustering is that it runs/ computes clusters very fast for a sparse dataset.\n",
    "The spectral clustering algorithm is treated as a graph partitioning problem. \n",
    "The data points/nodes are mapped to a low-dimensional space that can be easily segregated to form clusters. \n",
    "Points that are connected or are adjacent to each other are assigned to the same cluster. \n"
   ]
  },
  {
   "cell_type": "code",
   "execution_count": null,
   "id": "57e42f42",
   "metadata": {},
   "outputs": [],
   "source": [
    "precision_test =[]\n",
    "recall_test = []\n",
    "f_test = []\n",
    "auc_test =[] \n",
    "acc_score_test = []\n",
    "\n",
    "precision_train = []\n",
    "recall_train = []\n",
    "f_train = []\n",
    "auc_train = [] \n",
    "acc_score_train = []\n",
    "\n",
    "for i in range(1,30):\n",
    "    df_mal = df_norm[df_norm['Diagnosis']==0]\n",
    "    df_ben = df_norm[df_norm['Diagnosis']==1]\n",
    "    df_mal_sample = df_mal.sample(frac=.20,random_state=random.randint(1,100))\n",
    "    df_ben_sample = df_ben.sample(frac=.20,random_state=random.randint(1,100))\n",
    "    \n",
    "    df_test = pd.concat([df_ben_sample,df_mal_sample]) \n",
    "    index1 = df_test.index\n",
    "    df_train = df_norm.drop(index= index1)\n",
    "    df_test.reset_index(drop=True,inplace=True)\n",
    "    x_test = df_test.drop(['Diagnosis'],axis=1)\n",
    "    y_test = df_test['Diagnosis']\n",
    "    x_train = df_train.drop(['Diagnosis'],axis=1)\n",
    "    y_train = df_train['Diagnosis']\n",
    "    x_train.reset_index(drop=True,inplace=True)\n",
    "    y_train.reset_index(drop=True,inplace=True)\n",
    "    \n",
    "    sc = SpectralClustering(n_clusters=2,affinity='rbf').fit(train_x)\n",
    "    speclabels = pd.DataFrame(sc.labels_)\n",
    "    label0= speclabels[speclabels[0]==0].index \n",
    "    label1=speclabels[speclabels[0]==1].index\n",
    "    cluster0=x_train.iloc[label0,:]\n",
    "    cluster1=x_train.iloc[label1,:]\n",
    "    center0=cluster0.mean(axis=0)\n",
    "    center1=cluster1.mean(axis=0)\n",
    "    centers = pd.DataFrame()\n",
    "    centers[0] = center0\n",
    "    centers[1] = center1\n",
    "    neigh = NearestNeighbors(n_neighbors=30,algorithm='brute').fit(x_train)\n",
    "    distances, indices = neigh.kneighbors(centers.T)\n",
    "    clus0= train_y.loc[indices[0]]\n",
    "    poll0=clus0.value_counts()  \n",
    "    clus1=train_y.loc[indices[1]]\n",
    "    poll1=clus1.value_counts()\n",
    "    y_pred = sc.labels_\n",
    "    y_pred = pd.DataFrame(y_pred)\n",
    "    y_pred0 = y_pred[y_pred[0]==0]\n",
    "    y_pred1 = y_pred[y_pred[0]==1]\n",
    "    max_index_0=np.argmax(poll0)\n",
    "    max_index_1=np.argmax(poll1)\n",
    "    y_pred0['class']=max_index_0\n",
    "    y_pred1['class']=max_index_1\n",
    "    y_pred_train=pd.concat([y_pred0['class'],y_pred0['class']],axis=0)\n",
    "    y_pred_train=y_pred_train.sort_index()\n",
    "    y_pred = sc.labels_\n",
    "    y_pred=pd.DataFrame(pred_y)\n",
    "    y_pred0=y_pred[y_pred[0]==0]\n",
    "    y_pred1=y_pred[y_pred[0]==1]\n",
    "    max_index_0=np.argmax(poll0)\n",
    "    max_index_1=np.argmax(poll1)\n",
    "    y_pred0['class']=max_index_0\n",
    "    y_pred1['class']=max_index_1\n",
    "    y_pred_train=pd.concat([y_pred0['class'],y_pred1['class']],axis=0)\n",
    "    y_pred_train=y_pred_train.sort_index()\n",
    "    \n",
    "    precision_train.append(precision_score(y_train, y_pred_train))\n",
    "    recall_train.append(recall_score(y_train, y_pred_train))\n",
    "    acc_score_train.append(accuracy_score(y_train, y_pred_train)) \n",
    "    f_train.append(f1_score(y_train, y_pred_train))\n",
    "    fpr_train, tpr_train, _ = roc_curve(y_train,y_pred_train)\n",
    "    auc_train.append(auc(fpr_train, tpr_train))\n",
    "    \n",
    "    y_pred_test = sc.fit_predict(x_test)\n",
    "    precision_test.append(precision_score(y_test, y_pred_test))\n",
    "    recall_test.append(recall_score(y_test, y_pred_test))\n",
    "    acs.append(accuracy_score(y_test, y_pred_test)) \n",
    "    fs.append(f1_score(y_test, y_pred_test))\n",
    "    fpr_test, tpr_test, _ = roc_curve(y_test,y_pred_test)\n",
    "    auc_test.append(auc(fpr_test, tpr_test))"
   ]
  },
  {
   "cell_type": "code",
   "execution_count": null,
   "id": "9d53af83",
   "metadata": {},
   "outputs": [],
   "source": [
    "print(\"TRAIN\")\n",
    "print(\"Average Precision : \",np.mean(precision_train))\n",
    "print(\"Average F1 Score : \",np.mean(f_train))\n",
    "print(\"Average Recall : \",np.mean(recall_train))\n",
    "print(\"Average AUC : \",np.mean(auc_train))\n",
    "print(\"Average Accuraccy : \",np.mean(acc_score_train))\n",
    "print(\"TEST \")\n",
    "print(\"Average Precision : \",np.mean(precision_test))\n",
    "print(\"Average F1 Score : \",np.mean(f_test))\n",
    "print(\"Average Recall : \",np.mean(recall_test))\n",
    "print(\"Average AUC: \",np.mean(auc_test))\n",
    "print(\"Average Accuraccy : \",np.mean(acc_score_test))"
   ]
  },
  {
   "cell_type": "code",
   "execution_count": null,
   "id": "f1ee2605",
   "metadata": {},
   "outputs": [],
   "source": [
    "cm_test = confusion_matrix(y_test,y_pred_test)\n",
    "print(\"Confusion Matrix (TEST) : \",cm_test)\n",
    "\n",
    "cm_train = confusion_matrix(y_train,y_pred_train)\n",
    "print(\"Confusion Matrix (TRAIN) : \",cm_train)"
   ]
  },
  {
   "cell_type": "code",
   "execution_count": null,
   "id": "53330247",
   "metadata": {},
   "outputs": [],
   "source": [
    "plt.plot(fpr_test,tpr_test, linestyle='--', label='Test ROC (AUC = %0.3f)' % auc(fpr_test,tpr_test))\n",
    "plt.plot(fpr_train,tpr_train, linestyle='--', label='Train ROC (AUC = %0.3f)' % auc(fpr_train,tpr_train))\n",
    "plt.plot([0, 1], [0, 1], color=\"navy\", linestyle=\"--\")\n",
    "plt.title('ROC')\n",
    "plt.xlabel('False Positive Rate')\n",
    "plt.ylabel('True Positive Rate')\n",
    "plt.legend()"
   ]
  },
  {
   "cell_type": "markdown",
   "id": "7782b2cc",
   "metadata": {},
   "source": [
    "It can be concluded that supervised learning on full dataset is working better as compared to semi-supervised learning \n",
    "with half of the labeled dataset. \n",
    "Unsupervised learning is also not performing as per expectation. \n",
    "The conclusion is based on the auc,roc curves as well as precision and \n",
    "recall metrics for the given algorithms averages over the monte carlo simulations."
   ]
  },
  {
   "cell_type": "code",
   "execution_count": 38,
   "id": "187fad15",
   "metadata": {},
   "outputs": [
    {
     "data": {
      "text/html": [
       "<div>\n",
       "<style scoped>\n",
       "    .dataframe tbody tr th:only-of-type {\n",
       "        vertical-align: middle;\n",
       "    }\n",
       "\n",
       "    .dataframe tbody tr th {\n",
       "        vertical-align: top;\n",
       "    }\n",
       "\n",
       "    .dataframe thead th {\n",
       "        text-align: right;\n",
       "    }\n",
       "</style>\n",
       "<table border=\"1\" class=\"dataframe\">\n",
       "  <thead>\n",
       "    <tr style=\"text-align: right;\">\n",
       "      <th></th>\n",
       "      <th>3.6216</th>\n",
       "      <th>8.6661</th>\n",
       "      <th>-2.8073</th>\n",
       "      <th>-0.44699</th>\n",
       "      <th>class</th>\n",
       "    </tr>\n",
       "  </thead>\n",
       "  <tbody>\n",
       "    <tr>\n",
       "      <th>0</th>\n",
       "      <td>4.54590</td>\n",
       "      <td>8.1674</td>\n",
       "      <td>-2.4586</td>\n",
       "      <td>-1.46210</td>\n",
       "      <td>0</td>\n",
       "    </tr>\n",
       "    <tr>\n",
       "      <th>1</th>\n",
       "      <td>3.86600</td>\n",
       "      <td>-2.6383</td>\n",
       "      <td>1.9242</td>\n",
       "      <td>0.10645</td>\n",
       "      <td>0</td>\n",
       "    </tr>\n",
       "    <tr>\n",
       "      <th>2</th>\n",
       "      <td>3.45660</td>\n",
       "      <td>9.5228</td>\n",
       "      <td>-4.0112</td>\n",
       "      <td>-3.59440</td>\n",
       "      <td>0</td>\n",
       "    </tr>\n",
       "    <tr>\n",
       "      <th>3</th>\n",
       "      <td>0.32924</td>\n",
       "      <td>-4.4552</td>\n",
       "      <td>4.5718</td>\n",
       "      <td>-0.98880</td>\n",
       "      <td>0</td>\n",
       "    </tr>\n",
       "    <tr>\n",
       "      <th>4</th>\n",
       "      <td>4.36840</td>\n",
       "      <td>9.6718</td>\n",
       "      <td>-3.9606</td>\n",
       "      <td>-3.16250</td>\n",
       "      <td>0</td>\n",
       "    </tr>\n",
       "  </tbody>\n",
       "</table>\n",
       "</div>"
      ],
      "text/plain": [
       "    3.6216  8.6661  -2.8073  -0.44699  class\n",
       "0  4.54590  8.1674  -2.4586  -1.46210      0\n",
       "1  3.86600 -2.6383   1.9242   0.10645      0\n",
       "2  3.45660  9.5228  -4.0112  -3.59440      0\n",
       "3  0.32924 -4.4552   4.5718  -0.98880      0\n",
       "4  4.36840  9.6718  -3.9606  -3.16250      0"
      ]
     },
     "execution_count": 38,
     "metadata": {},
     "output_type": "execute_result"
    }
   ],
   "source": [
    "df2 = pd.read_csv(r'../Data/data_banknote_authentication.txt')\n",
    "df2.rename(columns={'0':\"class\"},inplace=True)\n",
    "df2.head()"
   ]
  },
  {
   "cell_type": "code",
   "execution_count": 65,
   "id": "3af78b4e",
   "metadata": {},
   "outputs": [],
   "source": [
    "test = df2.sample(472)\n",
    "index_test = test.index\n",
    "train= df2.drop(index=index_test)\n",
    "y_test=test.iloc[:,-1:]\n",
    "x_test=test.iloc[:,:-1]\n",
    "y_train=train.iloc[:,-1:]\n",
    "x_train=train.iloc[:,:-1]\n",
    "x_train=x_train.reset_index(drop=True)\n",
    "y_train=y_train.reset_index(drop=True)\n",
    "x_test=x_test.reset_index(drop=True)\n",
    "y_test=y_test.reset_index(drop=True)\n",
    "\n",
    "df_acs1=pd.DataFrame()\n",
    "for x in range(0,50):\n",
    "    acs1=[]\n",
    "    x_tr=pd.DataFrame()\n",
    "    y_tr=pd.DataFrame()\n",
    "    skf=StratifiedKFold(n_splits=90)\n",
    "    cv=2\n",
    "    for train_index, tr_index_10 in skf.split(x_train, y_train):\n",
    "            x_tr=pd.concat([x_tr,x_train.iloc[tr_index_10,:]])\n",
    "            y_tr=pd.concat([y_tr,y_train.iloc[tr_index_10]])\n",
    "            parameters = [{'C': [0.1,0.001,1, 10, 100, 1000],'max_iter':[2000]} ]\n",
    "            model = GridSearchCV(svm.LinearSVC(penalty='l1',dual=False),parameters,cv=cv)\n",
    "            cv=10\n",
    "            model.fit(x_tr, y_tr.values.ravel())\n",
    "    \n",
    "            pred_y = model.predict(x_test)\n",
    "            acs1.append(accuracy_score(y_test, pred_y)) \n",
    "    df_acs1=pd.concat([df_acs1,pd.DataFrame(acs1)],axis=1)"
   ]
  },
  {
   "cell_type": "code",
   "execution_count": 63,
   "id": "44f719d4",
   "metadata": {},
   "outputs": [],
   "source": [
    "df_acs=pd.DataFrame()\n",
    "for x in range(0,50):\n",
    "    test=df2.sample(472)\n",
    "    index_test=test.index\n",
    "    train= df2.drop(index=index_test)\n",
    "    y_test=test.iloc[:,-1:]\n",
    "    x_test=test.iloc[:,:-1]\n",
    "    y_train=train.iloc[:,-1:]\n",
    "    x_train=train.iloc[:,:-1]\n",
    "    x_tr=pd.DataFrame()\n",
    "    y_tr=pd.DataFrame()\n",
    "    acs=[]\n",
    "    skf=StratifiedKFold(n_splits=90)\n",
    "    cv=2\n",
    "    for train_index, tr_index_10 in skf.split(x_train, y_train):\n",
    "       # print(tr_index_10)\n",
    "        x_tr=x_train.iloc[tr_index_10,:]\n",
    "        y_tr=y_train.iloc[tr_index_10,:]\n",
    "        #print(y_tr)\n",
    "        break\n",
    "    for x in range(0,90):\n",
    "        #print(x)\n",
    "        x_train=x_train.reset_index(drop=True)\n",
    "        y_train=y_train.reset_index(drop=True)\n",
    "        x_test=x_test.reset_index(drop=True)\n",
    "        y_test=y_test.reset_index(drop=True)\n",
    "        parameters = [{'C': [0.1,0.001,1, 10, 100, 1000],'max_iter':[2000]} ]\n",
    "        model = GridSearchCV(svm.LinearSVC(penalty='l1',dual=False),parameters,cv=cv)\n",
    "        cv=10\n",
    "        #print('Grid')\n",
    "        model.fit(x_tr, y_tr.values.ravel())           \n",
    "        dist=pd.DataFrame(abs(model.decision_function(x_train)))\n",
    "        dist_sort= dist.sort_values(0) \n",
    "        dist_sort=dist_sort.iloc[0:10,:]\n",
    "        indexes=dist_sort.index\n",
    "\n",
    "        #print(y_train.iloc[230,:])\n",
    "        x_tr=pd.concat([x_tr,x_train.iloc[indexes,:]],axis=0)\n",
    "        y_tr=pd.concat([y_tr,y_train.iloc[indexes,:]],axis=0)\n",
    "        x_tr.reset_index(drop=True,inplace=True)\n",
    "        y_tr.reset_index(drop=True,inplace=True)\n",
    "        x_train=x_train.drop(index=indexes) \n",
    "        y_train=y_train.drop(index=indexes)\n",
    "        #calculating train parameters\n",
    "        pred_y = model.predict(x_test)\n",
    "        acs.append(accuracy_score(y_test, pred_y))\n",
    "    df_acs=pd.concat([df_acs,pd.DataFrame(acs)],axis=1)\n"
   ]
  },
  {
   "cell_type": "code",
   "execution_count": 66,
   "id": "69a5f024",
   "metadata": {},
   "outputs": [],
   "source": [
    "avg_passive_learning =np.mean(df_acs1,axis=1)\n",
    "avg_active_learning = np.mean(df_acs,axis=1)"
   ]
  },
  {
   "cell_type": "code",
   "execution_count": 67,
   "id": "b6eb11e3",
   "metadata": {},
   "outputs": [
    {
     "data": {
      "text/plain": [
       "Text(0, 0.5, 'Average Test Error')"
      ]
     },
     "execution_count": 67,
     "metadata": {},
     "output_type": "execute_result"
    },
    {
     "data": {
      "image/png": "[encoded data removed]",
      "text/plain": [
       "<Figure size 432x288 with 1 Axes>"
      ]
     },
     "metadata": {
      "needs_background": "light"
     },
     "output_type": "display_data"
    }
   ],
   "source": [
    "res = pd.DataFrame({'Passive_Learning':1-avg_passive_learning, 'Active_Learning':1-avg_active_learning})\n",
    "\n",
    "ax = res.plot(style='-',title='Active vs Semi Supervised (Passive) Learning')\n",
    "ax.set_xlabel(\"Number of Training Instances\")\n",
    "ax.set_ylabel(\"Average Test Error\")"
   ]
  },
  {
   "cell_type": "markdown",
   "id": "4380ebec",
   "metadata": {},
   "source": [
    "The average test error decreases rapidly for both active learning and passive learning as the number of training instances increases.\n",
    "Active learning model is taking more time to reach the low test error as compared to SSL."
   ]
  },
  {
   "cell_type": "markdown",
   "id": "96f73a90",
   "metadata": {},
   "source": [
    "# References :\n",
    "<ol>\n",
    "    <li>https://scikit-learn.org/stable/auto_examples/model_selection/plot_roc.html</li>\n",
    "    <li>https://www.mygreatlearning.com/blog/introduction-to-spectral-clustering/</li>\n",
    "    <li>https://scikit-learn.org/stable/modules/generated/sklearn.cluster.SpectralClustering.html</li>\n",
    "    <li>https://stackoverflow.com/questions/61291741/passing-list-likes-to-loc-or-with-any-missing-labels-is-no-longer-supported</li>\n",
    "    <li>https://scikit-learn.org/stable/modules/generated/sklearn.svm.LinearSVC.html</li>\n",
    "    <li>https://realpython.com/k-means-clustering-python/</li>\n",
    "    <li> https://en.wikipedia.org/wiki/Spectral_clustering</li>\n",
    "</ol>  "
   ]
  }
 ],
 "metadata": {
  "kernelspec": {
   "display_name": "Python 3",
   "language": "python",
   "name": "python3"
  },
  "language_info": {
   "codemirror_mode": {
    "name": "ipython",
    "version": 3
   },
   "file_extension": ".py",
   "mimetype": "text/x-python",
   "name": "python",
   "nbconvert_exporter": "python",
   "pygments_lexer": "ipython3",
   "version": "3.7.1"
  }
 },
 "nbformat": 4,
 "nbformat_minor": 5
}
